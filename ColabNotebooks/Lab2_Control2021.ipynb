{
  "nbformat": 4,
  "nbformat_minor": 0,
  "metadata": {
    "colab": {
      "name": "Lab2_Control2021.ipynb",
      "provenance": [],
      "authorship_tag": "ABX9TyPLOMqe2vr797NeTnl7i39s",
      "include_colab_link": true
    },
    "kernelspec": {
      "name": "python3",
      "display_name": "Python 3"
    }
  },
  "cells": [
    {
      "cell_type": "markdown",
      "metadata": {
        "id": "view-in-github",
        "colab_type": "text"
      },
      "source": [
        "<a href=\"https://colab.research.google.com/github/SergeiSa/Control-Theory-Slides-Spring-2021/blob/main/ColabNotebooks/Lab2_Control2021.ipynb\" target=\"_parent\"><img src=\"https://colab.research.google.com/assets/colab-badge.svg\" alt=\"Open In Colab\"/></a>"
      ]
    },
    {
      "cell_type": "markdown",
      "metadata": {
        "id": "BkxQZGEAFxee"
      },
      "source": [
        "# Stability of an autonomous linear system\r\n",
        "\r\n",
        "Autonomous linear system is *stable*, iff the eigenvalues of its matrix have negative real parts. In other words, their should lie on the left half of the complex plane.\r\n",
        "\r\n",
        "Consider the system:\r\n",
        "\r\n",
        "$$\\dot x = \r\n",
        "\\begin{pmatrix} -1 & 0.4 \\\\ -20 & -16\r\n",
        "\\end{pmatrix}\r\n",
        "x\r\n",
        "$$\r\n",
        "\r\n",
        "Let us find its eigenvalues:\r\n"
      ]
    },
    {
      "cell_type": "code",
      "metadata": {
        "colab": {
          "base_uri": "https://localhost:8080/"
        },
        "id": "Q-A8hIsLGp_Z",
        "outputId": "7078cfca-e1fd-47fb-d2c1-9843cb27cc54"
      },
      "source": [
        "import numpy as np\r\n",
        "from numpy.linalg import eig\r\n",
        "\r\n",
        "A = np.array([[-1, 0.4], [-20, -16]]) # state matrix\r\n",
        "e, v = eig(A)\r\n",
        "print(\"eigenvalues of A:\", e)"
      ],
      "execution_count": 1,
      "outputs": [
        {
          "output_type": "stream",
          "text": [
            "eigenvalues of A: [ -1.55377801 -15.44622199]\n"
          ],
          "name": "stdout"
        }
      ]
    },
    {
      "cell_type": "markdown",
      "metadata": {
        "id": "j899DUW8HKCB"
      },
      "source": [
        "The eigenvalues are $\\lambda_1 = -1.55$ and $\\lambda_1 = -15.44$, both real and negative. Let us test those and show that the system's state converges:"
      ]
    },
    {
      "cell_type": "code",
      "metadata": {
        "colab": {
          "base_uri": "https://localhost:8080/",
          "height": 279
        },
        "id": "9u7BsFrQHC4R",
        "outputId": "40806973-20d6-4904-d543-49d5db231a44"
      },
      "source": [
        "\r\n",
        "from scipy.integrate import odeint\r\n",
        "import matplotlib.pyplot as plt\r\n",
        "\r\n",
        "def LTV(x, t):\r\n",
        "    return A.dot(x)\r\n",
        "\r\n",
        "time = np.linspace(0, 10, 1000)    # interval from 0 to 10\r\n",
        "x0 = np.random.rand(2)            # initial state\r\n",
        "\r\n",
        "solution = odeint(LTV, x0, time)\r\n",
        "\r\n",
        "plt.plot(time, solution)\r\n",
        "plt.xlabel('time')\r\n",
        "plt.ylabel('x(t)')\r\n",
        "plt.show()"
      ],
      "execution_count": 3,
      "outputs": [
        {
          "output_type": "display_data",
          "data": {
            "image/png": "[encoded data removed]",
            "text/plain": [
              "<Figure size 432x288 with 1 Axes>"
            ]
          },
          "metadata": {
            "tags": [],
            "needs_background": "light"
          }
        }
      ]
    },
    {
      "cell_type": "markdown",
      "metadata": {
        "id": "2pHyIaGzGcUY"
      },
      "source": [
        "# Task 1. Find if the following autonomous linear systems are stable\r\n",
        "\r\n",
        "$$\\dot x = \r\n",
        "\\begin{pmatrix} 1 & 0 \\\\ -5 & -10\r\n",
        "\\end{pmatrix}\r\n",
        "x\r\n",
        "$$\r\n",
        "$$\\dot x = \r\n",
        "\\begin{pmatrix} 0 & 8 \\\\ 1 & 3\r\n",
        "\\end{pmatrix}\r\n",
        "x\r\n",
        "$$\r\n",
        "$$\\dot x = \r\n",
        "\\begin{pmatrix} 0 & 8 \\\\ 6 & 0\r\n",
        "\\end{pmatrix}\r\n",
        "x\r\n",
        "$$\r\n",
        "$$\\dot x = \r\n",
        "\\begin{pmatrix} 0 & 1 \\\\ 6 & 3\r\n",
        "\\end{pmatrix}\r\n",
        "x\r\n",
        "$$\r\n",
        "\r\n",
        "# Task 1.1 Simulate all of them, to show convergence.\r\n",
        "# Task 1.2 Add a constant term to the equation and show via simulation how the point where the system converges changes."
      ]
    },
    {
      "cell_type": "markdown",
      "metadata": {
        "id": "mzhA_9XA829p"
      },
      "source": [
        "# Linear system with one control input\r\n",
        "\r\n",
        "## Step 1\r\n",
        "\r\n",
        "Consider the following to a second order ODE:\r\n",
        "\r\n",
        "$$\r\n",
        "\\dot x = \r\n",
        "\\begin{pmatrix} \r\n",
        "1 & 0 \\\\ -5 & -10\r\n",
        "\\end{pmatrix}\r\n",
        "x \r\n",
        "$$\r\n",
        "\r\n",
        "The eigenvalues are $\\lambda_1 = -10$ and $\\lambda_1 = 1$, so unstable. \r\n",
        "\r\n",
        "## Step 2\r\n",
        "\r\n",
        "Now let's consider the same system, but with control input:\r\n",
        "\r\n",
        "$$\r\n",
        "\\dot x = \r\n",
        "\\begin{pmatrix} \r\n",
        "1 & 0 \\\\ -5 & -10\r\n",
        "\\end{pmatrix}\r\n",
        "x \r\n",
        "+\r\n",
        "\\begin{pmatrix} \r\n",
        "1 \\\\ 0\r\n",
        "\\end{pmatrix}\r\n",
        "u\r\n",
        "$$\r\n",
        "\r\n",
        "Let us chose that $u = -2x_1$, in other words:\r\n",
        "\r\n",
        "$$\r\n",
        "u = \r\n",
        "\\begin{pmatrix} \r\n",
        "-2 & 0\r\n",
        "\\end{pmatrix}\r\n",
        "x\r\n",
        "$$\r\n",
        "\r\n",
        "Then we can re-write this as:\r\n",
        "\r\n",
        "$$\r\n",
        "\\dot x = \r\n",
        "\\begin{pmatrix} \r\n",
        "1 & 0 \\\\ -5 & -10\r\n",
        "\\end{pmatrix}\r\n",
        "x \r\n",
        "+\r\n",
        "\\begin{pmatrix} \r\n",
        "1 \\\\ 0\r\n",
        "\\end{pmatrix}\r\n",
        "\\begin{pmatrix} \r\n",
        "-2 & 0\r\n",
        "\\end{pmatrix}\r\n",
        "x\r\n",
        "$$\r\n",
        "\r\n",
        "$$\r\n",
        "\\dot x = \r\n",
        "\\begin{pmatrix} \r\n",
        "1 & 0 \\\\ -5 & -10\r\n",
        "\\end{pmatrix}\r\n",
        "x \r\n",
        "+\r\n",
        "\\begin{pmatrix} \r\n",
        "-2 & 0 \\\\ 0 & 0\r\n",
        "\\end{pmatrix}\r\n",
        "x\r\n",
        "$$\r\n",
        "\r\n",
        "\r\n",
        "$$\r\n",
        "\\dot x = \r\n",
        "\\begin{pmatrix} \r\n",
        "-1 & 0 \\\\ -5 & -10\r\n",
        "\\end{pmatrix}\r\n",
        "x\r\n",
        "$$\r\n",
        "\r\n",
        "Now the eigenvalues are $\\lambda_1 = -10$ and $\\lambda_1 = -1$, so stable. "
      ]
    },
    {
      "cell_type": "code",
      "metadata": {
        "colab": {
          "base_uri": "https://localhost:8080/"
        },
        "id": "7-t7hvdkIITD",
        "outputId": "e94adf80-a5d2-47a5-fae1-8172bfd5917d"
      },
      "source": [
        "A = np.array([[1, 0], [-5, -10]]) # state matrix\r\n",
        "e, v = eig(A)\r\n",
        "print(\"eigenvalues of A:\", e)\r\n",
        "\r\n",
        "A = np.array([[-1, 0], [-5, -10]]) # state matrix\r\n",
        "e, v = eig(A)\r\n",
        "print(\"eigenvalues of A:\", e)"
      ],
      "execution_count": 9,
      "outputs": [
        {
          "output_type": "stream",
          "text": [
            "eigenvalues of A: [-10.   1.]\n",
            "eigenvalues of A: [-10.  -1.]\n"
          ],
          "name": "stdout"
        }
      ]
    },
    {
      "cell_type": "markdown",
      "metadata": {
        "id": "MQ3fceFLKoH_"
      },
      "source": [
        "# Task 2.1 Make the following systems, proposing appropriate control\r\n",
        "\r\n",
        "$$\\dot x = \r\n",
        "\\begin{pmatrix} 10 & 0 \\\\ -5 & 10\r\n",
        "\\end{pmatrix}\r\n",
        "x\r\n",
        "+\r\n",
        "\\begin{pmatrix} \r\n",
        "2 \\\\ 0\r\n",
        "\\end{pmatrix}\r\n",
        "u\r\n",
        "$$\r\n",
        "\r\n",
        "\r\n",
        "$$\\dot x = \r\n",
        "\\begin{pmatrix} 0 & -8 \\\\ 1 & 30\r\n",
        "\\end{pmatrix}\r\n",
        "x\r\n",
        "+\r\n",
        "\\begin{pmatrix} \r\n",
        "-2 \\\\ 1\r\n",
        "\\end{pmatrix}\r\n",
        "u\r\n",
        "$$\r\n",
        "\r\n",
        "\r\n",
        "$$\\dot x = \r\n",
        "\\begin{pmatrix} 2 & 2 \\\\ -6 & 10\r\n",
        "\\end{pmatrix}\r\n",
        "x\r\n",
        "+\r\n",
        "\\begin{pmatrix} \r\n",
        "0 \\\\ 5\r\n",
        "\\end{pmatrix}\r\n",
        "u\r\n",
        "$$\r\n",
        "\r\n",
        "\r\n",
        "$$\\dot x = \r\n",
        "\\begin{pmatrix} 5 & -5 \\\\ 6 & 15\r\n",
        "\\end{pmatrix}\r\n",
        "x\r\n",
        "+\r\n",
        "\\begin{pmatrix} \r\n",
        "-10 \\\\ 10\r\n",
        "\\end{pmatrix}\r\n",
        "u\r\n",
        "$$"
      ]
    },
    {
      "cell_type": "markdown",
      "metadata": {
        "id": "yP7jmU2jLSio"
      },
      "source": [
        "# Task 2.2 Make the following systems, proposing appropriate control\r\n",
        "\r\n",
        "$$\\dot x = \r\n",
        "\\begin{pmatrix} 10 & 0 \\\\ -5 & 10\r\n",
        "\\end{pmatrix}\r\n",
        "x\r\n",
        "+\r\n",
        "\\begin{pmatrix} \r\n",
        "2 & 1 \\\\ 0 & -1\r\n",
        "\\end{pmatrix}\r\n",
        "u\r\n",
        "$$\r\n",
        "\r\n",
        "\r\n",
        "$$\\dot x = \r\n",
        "\\begin{pmatrix} 0 & -8 \\\\ 1 & 30\r\n",
        "\\end{pmatrix}\r\n",
        "x\r\n",
        "+\r\n",
        "\\begin{pmatrix} \r\n",
        "-2 & 1 \\\\ 1 & 1\r\n",
        "\\end{pmatrix}\r\n",
        "u\r\n",
        "$$\r\n",
        "\r\n",
        "\r\n",
        "$$\\dot x = \r\n",
        "\\begin{pmatrix} 2 & 2 \\\\ -6 & 10\r\n",
        "\\end{pmatrix}\r\n",
        "x\r\n",
        "+\r\n",
        "\\begin{pmatrix} \r\n",
        "0 & -1 \\\\ 5 & -1\r\n",
        "\\end{pmatrix}\r\n",
        "u\r\n",
        "$$\r\n",
        "\r\n",
        "\r\n",
        "$$\\dot x = \r\n",
        "\\begin{pmatrix} 5 & -5 \\\\ 6 & 15\r\n",
        "\\end{pmatrix}\r\n",
        "x\r\n",
        "+\r\n",
        "\\begin{pmatrix} \r\n",
        "-10 & 3 \\\\ 10 & 3\r\n",
        "\\end{pmatrix}\r\n",
        "u\r\n",
        "$$"
      ]
    },
    {
      "cell_type": "markdown",
      "metadata": {
        "id": "psIIY0rZL3uU"
      },
      "source": [
        "# Task 3 Step functions\r\n",
        "\r\n",
        "## Simulate one of the given systems with a step function as an imput.\r\n",
        "\r\n",
        "## Linear combination of solutions\r\n",
        "\r\n",
        "Simulate one of the given systems with two different step functions $f_1$,  $f_2$ as an imput, and as a sum of those $f_1+f_2$ as an imput. Compare the sum of the solutions for the $f_1$,  $f_2$ with the solution for $f_1+f_2$.\r\n",
        "\r\n",
        "Research what step function is, think of how to simulate the reaction fo teh system to such an input."
      ]
    }
  ]
}